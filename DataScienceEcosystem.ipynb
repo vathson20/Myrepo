{
 "cells": [
  {
   "cell_type": "markdown",
   "id": "ea971d56-705d-47e7-ae9b-4d17c1f96ad9",
   "metadata": {},
   "source": [
    "# Data Science Tools and Ecosystem"
   ]
  },
  {
   "cell_type": "markdown",
   "id": "5f50e072-1ab4-4ed3-bb9d-90f319758171",
   "metadata": {},
   "source": [
    "## In this notebook, Data Science Tools and Ecosystem are summarized."
   ]
  },
  {
   "cell_type": "markdown",
   "id": "cedc234f-59b4-457b-9816-60a2fde732be",
   "metadata": {},
   "source": [
    "**Objectives**\n",
    "-  List popular languages for Data Science\n",
    "-  Convert hours to minutes\n",
    "-  To create arithmetic expressions\n",
    "-   List the popular libraries"
   ]
  },
  {
   "cell_type": "markdown",
   "id": "93e24b3d-f029-4723-a51a-974342b1e532",
   "metadata": {
    "tags": []
   },
   "source": [
    "### Some of the popular languages that Data Scientists use are:\n",
    " 1. Python\n",
    " 2. R\n",
    " 3. Julia\n",
    " 4. Scala"
   ]
  },
  {
   "cell_type": "markdown",
   "id": "4c573d93-eec9-4b3b-ae99-39923cdeb2d4",
   "metadata": {},
   "source": [
    "#### Some of the commonly used libraries used by Data Scientists include:\n",
    "<ol>\n",
    "    <li> ggplot</li>\n",
    "    <li> plotly </li>\n",
    "    <li> scikit</li>\n",
    "    <li> matplotlib</li>\n",
    "</ol>"
   ]
  },
  {
   "cell_type": "markdown",
   "id": "85964296-b58d-459b-be61-c53f69f1b0f0",
   "metadata": {},
   "source": [
    "| Data Science Tools|\n",
    "|---|\n",
    "|Pandas|\n",
    "|Pytorch|\n",
    "|Apache Spark|\n",
    "|Tensorflow|"
   ]
  },
  {
   "cell_type": "markdown",
   "id": "4b58f1e4-fb75-4ff2-8fc2-9f81802d7942",
   "metadata": {},
   "source": [
    "### Below are a few examples of evaluating arithmetic expressions in Python"
   ]
  },
  {
   "cell_type": "code",
   "execution_count": 1,
   "id": "e21cacf0-cdba-4bd2-8ac9-edb279a88762",
   "metadata": {
    "tags": []
   },
   "outputs": [
    {
     "data": {
      "text/plain": [
       "17"
      ]
     },
     "execution_count": 1,
     "metadata": {},
     "output_type": "execute_result"
    }
   ],
   "source": [
    "# This a simple arithmetic expression to mutiply then add integers.\n",
    "(3*4)+5"
   ]
  },
  {
   "cell_type": "code",
   "execution_count": 2,
   "id": "a262e0f6-6c23-452e-9b45-717ca2dd96c3",
   "metadata": {
    "tags": []
   },
   "outputs": [
    {
     "data": {
      "text/plain": [
       "3.3333333333333335"
      ]
     },
     "execution_count": 2,
     "metadata": {},
     "output_type": "execute_result"
    }
   ],
   "source": [
    "# This will convert 200 minutes to hours by diving by 60\n",
    "200/60"
   ]
  },
  {
   "cell_type": "markdown",
   "id": "d166ea84-b178-4d11-b478-790a49ae3698",
   "metadata": {},
   "source": [
    "## Author\n",
    "Srivathson P"
   ]
  },
  {
   "cell_type": "code",
   "execution_count": null,
   "id": "97916035-64a1-4152-ac8b-71f06a8b942c",
   "metadata": {},
   "outputs": [],
   "source": []
  }
 ],
 "metadata": {
  "kernelspec": {
   "display_name": "Python 3 (ipykernel)",
   "language": "python",
   "name": "python3"
  },
  "language_info": {
   "codemirror_mode": {
    "name": "ipython",
    "version": 3
   },
   "file_extension": ".py",
   "mimetype": "text/x-python",
   "name": "python",
   "nbconvert_exporter": "python",
   "pygments_lexer": "ipython3",
   "version": "3.11.5"
  }
 },
 "nbformat": 4,
 "nbformat_minor": 5
}
